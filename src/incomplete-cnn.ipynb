{
 "cells": [
  {
   "cell_type": "code",
   "execution_count": 33,
   "metadata": {},
   "outputs": [],
   "source": [
    "import numpy as np \n",
    "import scipy\n",
    "import tensorflow as tf \n",
    "from tensorflow import keras\n",
    "from tensorflow.keras.models import Sequential\n",
    "from tensorflow.keras import layers\n",
    "from tensorflow.keras.preprocessing.image import ImageDataGenerator\n",
    "from tensorflow.keras.callbacks import EarlyStopping"
   ]
  },
  {
   "cell_type": "code",
   "execution_count": 34,
   "metadata": {},
   "outputs": [
    {
     "name": "stdout",
     "output_type": "stream",
     "text": [
      "(1841, 250, 250, 3)\n",
      "(1841, 1)\n"
     ]
    }
   ],
   "source": [
    "\n",
    "img_train = np.load(\"C:\\\\Users\\\\Runze Zhao\\\\Desktop\\\\Signature Forgery\\\\train_imgs.npy\")\n",
    "label_train = np.load(\"C:\\\\Users\\\\Runze Zhao\\\\Desktop\\\\Signature Forgery\\\\train_labels.npy\")\n",
    "img_valid = np.load(\"C:\\\\Users\\\\Runze Zhao\\\\Desktop\\\\Signature Forgery\\\\val_imgs.npy\")\n",
    "label_valid = np.load(\"C:\\\\Users\\\\Runze Zhao\\\\Desktop\\\\Signature Forgery\\\\val_labels.npy\")\n",
    "print(img_train.shape)\n",
    "print(label_train.shape)"
   ]
  },
  {
   "cell_type": "code",
   "execution_count": 35,
   "metadata": {},
   "outputs": [
    {
     "data": {
      "text/plain": [
       "'image_detector = ImageDataGenerator(rescale = 1.0/255)\\n\\ntrain_iterator = image_detector.flow(img_train, label_train, batch_size = BATCH_SIZE)\\nvalid_iterator = image_detector.flow(img_valid, label_valid, batch_size = BATCH_SIZE)'"
      ]
     },
     "execution_count": 35,
     "metadata": {},
     "output_type": "execute_result"
    }
   ],
   "source": [
    "BATCH_SIZE = 20\n",
    "\n",
    "'''image_detector = ImageDataGenerator(rescale = 1.0/255)\n",
    "\n",
    "train_iterator = image_detector.flow(img_train, label_train, batch_size = BATCH_SIZE)\n",
    "valid_iterator = image_detector.flow(img_valid, label_valid, batch_size = BATCH_SIZE)'''"
   ]
  },
  {
   "cell_type": "markdown",
   "metadata": {},
   "source": []
  },
  {
   "cell_type": "code",
   "execution_count": 36,
   "metadata": {},
   "outputs": [
    {
     "name": "stdout",
     "output_type": "stream",
     "text": [
      "Model: \"sequential_8\"\n",
      "_________________________________________________________________\n",
      " Layer (type)                Output Shape              Param #   \n",
      "=================================================================\n",
      " conv2d_16 (Conv2D)          (None, 124, 124, 7)       196       \n",
      "                                                                 \n",
      " max_pooling2d_16 (MaxPooli  (None, 41, 41, 7)         0         \n",
      " ng2D)                                                           \n",
      "                                                                 \n",
      " conv2d_17 (Conv2D)          (None, 39, 39, 6)         384       \n",
      "                                                                 \n",
      " max_pooling2d_17 (MaxPooli  (None, 19, 19, 6)         0         \n",
      " ng2D)                                                           \n",
      "                                                                 \n",
      " flatten_8 (Flatten)         (None, 2166)              0         \n",
      "                                                                 \n",
      " dense_7 (Dense)             (None, 1)                 2167      \n",
      "                                                                 \n",
      "=================================================================\n",
      "Total params: 2747 (10.73 KB)\n",
      "Trainable params: 2747 (10.73 KB)\n",
      "Non-trainable params: 0 (0.00 Byte)\n",
      "_________________________________________________________________\n"
     ]
    },
    {
     "name": "stdout",
     "output_type": "stream",
     "text": [
      "Epoch 1/8\n"
     ]
    },
    {
     "name": "stderr",
     "output_type": "stream",
     "text": [
      "C:\\Users\\Runze Zhao\\AppData\\Local\\Packages\\PythonSoftwareFoundation.Python.3.11_qbz5n2kfra8p0\\LocalCache\\local-packages\\Python311\\site-packages\\keras\\src\\backend.py:5820: UserWarning: \"`binary_crossentropy` received `from_logits=True`, but the `output` argument was produced by a Sigmoid activation and thus does not represent logits. Was this intended?\n",
      "  output, from_logits = _get_logits(\n"
     ]
    },
    {
     "name": "stdout",
     "output_type": "stream",
     "text": [
      "93/93 [==============================] - 5s 44ms/step - loss: 396.2098 - binary_accuracy: 0.5052 - auc_8: 0.5038 - val_loss: 0.6923 - val_binary_accuracy: 0.5211 - val_auc_8: 0.5000\n",
      "Epoch 2/8\n",
      "93/93 [==============================] - 4s 40ms/step - loss: 0.6966 - binary_accuracy: 0.5019 - auc_8: 0.5003 - val_loss: 0.6966 - val_binary_accuracy: 0.4789 - val_auc_8: 0.5000\n",
      "Epoch 3/8\n",
      "93/93 [==============================] - 4s 42ms/step - loss: 0.6970 - binary_accuracy: 0.4916 - auc_8: 0.4966 - val_loss: 0.6926 - val_binary_accuracy: 0.5211 - val_auc_8: 0.5000\n",
      "Epoch 4/8\n",
      "93/93 [==============================] - 4s 46ms/step - loss: 0.6955 - binary_accuracy: 0.5122 - auc_8: 0.5089 - val_loss: 0.6931 - val_binary_accuracy: 0.5211 - val_auc_8: 0.5000\n",
      "Epoch 5/8\n",
      "93/93 [==============================] - 4s 41ms/step - loss: 0.7001 - binary_accuracy: 0.5139 - auc_8: 0.5216 - val_loss: 0.7181 - val_binary_accuracy: 0.4789 - val_auc_8: 0.5000\n",
      "Epoch 6/8\n",
      "93/93 [==============================] - 4s 41ms/step - loss: 0.6956 - binary_accuracy: 0.5247 - auc_8: 0.5105 - val_loss: 0.7040 - val_binary_accuracy: 0.4789 - val_auc_8: 0.5000\n",
      "Epoch 7/8\n",
      "93/93 [==============================] - 3s 37ms/step - loss: 0.6970 - binary_accuracy: 0.4872 - auc_8: 0.4796 - val_loss: 0.6923 - val_binary_accuracy: 0.5211 - val_auc_8: 0.5000\n",
      "Epoch 8/8\n",
      "93/93 [==============================] - 4s 38ms/step - loss: 0.6960 - binary_accuracy: 0.5139 - auc_8: 0.5170 - val_loss: 0.6932 - val_binary_accuracy: 0.4789 - val_auc_8: 0.5000\n"
     ]
    },
    {
     "data": {
      "text/plain": [
       "<keras.src.callbacks.History at 0x1f698450550>"
      ]
     },
     "execution_count": 36,
     "metadata": {},
     "output_type": "execute_result"
    }
   ],
   "source": [
    "tf.debugging.disable_traceback_filtering()\n",
    "model = Sequential()\n",
    "\n",
    "model.add(keras.Input(shape=(250, 250, 3)))\n",
    "\n",
    "model.add(tf.keras.layers.Conv2D(7, 3, strides=2, activation=\"relu\")) \n",
    "model.add(tf.keras.layers.MaxPooling2D(\n",
    "    pool_size=(3,3), strides=(3,3)))\n",
    "model.add(tf.keras.layers.Conv2D(6, 3, strides=1, activation=\"relu\")) \n",
    "model.add(tf.keras.layers.MaxPooling2D(\n",
    "    pool_size=(2,2), strides=(2,2)))\n",
    "model.add(layers.Flatten())\n",
    "model.add(layers.Dense(1, activation = 'sigmoid'))\n",
    "\n",
    "model.summary()\n",
    "\n",
    "model.compile(\n",
    "    optimizer= keras.optimizers.Adam(learning_rate=0.1),\n",
    "    loss= keras.losses.BinaryCrossentropy(from_logits=True),#\"sparse_categorical_crossentropy\",# \n",
    "    metrics=[keras.metrics.BinaryAccuracy(), keras.metrics.AUC()]\n",
    ")\n",
    "'''model.fit(\n",
    "         train_iterator,\n",
    "         steps_per_epoch=len(train_iterator)/BATCH_SIZE,\n",
    "         epochs=10,\n",
    "         validation_data=valid_iterator,\n",
    "         validation_steps=len(valid_iterator)/BATCH_SIZE)'''\n",
    "model.fit(\n",
    "        x = img_train,\n",
    "        y = label_train,\n",
    "        batch_size = BATCH_SIZE,\n",
    "        epochs = 8,\n",
    "        validation_data = [img_valid, label_valid])\n"
   ]
  }
 ],
 "metadata": {
  "kernelspec": {
   "display_name": "Python 3",
   "language": "python",
   "name": "python3"
  },
  "language_info": {
   "codemirror_mode": {
    "name": "ipython",
    "version": 3
   },
   "file_extension": ".py",
   "mimetype": "text/x-python",
   "name": "python",
   "nbconvert_exporter": "python",
   "pygments_lexer": "ipython3",
   "version": "3.11.7"
  }
 },
 "nbformat": 4,
 "nbformat_minor": 2
}
